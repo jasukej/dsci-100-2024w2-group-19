{
 "cells": [
  {
   "cell_type": "markdown",
   "id": "a96314cb-aaf9-4cdb-99e5-9833c9a0c84b",
   "metadata": {},
   "source": [
    "### Group 19 Project Proposal"
   ]
  },
  {
   "cell_type": "markdown",
   "id": "295b6789-6577-4528-9bda-f13a4aa18803",
   "metadata": {},
   "source": [
    "Title: Stellar Classification Data"
   ]
  },
  {
   "cell_type": "markdown",
   "id": "80c2c7a4-9374-48f7-9c30-b3892cbc3d42",
   "metadata": {},
   "source": [
    "#### **Introduction:** "
   ]
  },
  {
   "cell_type": "markdown",
   "id": "e54f2a90-f9b1-4845-b3f8-6d42938e42f5",
   "metadata": {},
   "source": [
    "Our project leverages the Sloan Digital Sky Survey's seventeenth release (SDSS17), which includes a Stellar Classification Dataset with over 100,000 celestial observations, to distinguish between stars, galaxies, and quasars based on their spectral properties. This classification is critical because each type of celestial body has a distinct spectral signature: stars shine with a steady light, galaxies emit light from vast star collections and interstellar material, and quasars emit intense energy from supermassive black holes. By accurately classifying these entities, we gain a better understanding of the universe's structure and evolutionary processes."
   ]
  },
  {
   "cell_type": "markdown",
   "id": "73527177-a5a2-486c-9362-95d216741afa",
   "metadata": {},
   "source": [
    "**Question:** Can we predict whether a stellar object is a star, a galaxy, or a quasar?"
   ]
  },
  {
   "cell_type": "markdown",
   "id": "daf06f95-507f-4347-bd06-bcaa550712c1",
   "metadata": {},
   "source": [
    "Our data set comes from Kaggle and explores ...\n"
   ]
  },
  {
   "cell_type": "markdown",
   "id": "85c9660f-f521-48ce-a3b4-b59fbb81d644",
   "metadata": {},
   "source": [
    "**References:**"
   ]
  },
  {
   "cell_type": "markdown",
   "id": "1ffc0d87-c42e-402c-99aa-b505dfccba86",
   "metadata": {},
   "source": [
    "#### **Preliminary exploratory data analysis** "
   ]
  },
  {
   "cell_type": "markdown",
   "id": "14df794d-53c1-490a-a79e-f58769460295",
   "metadata": {},
   "source": [
    "We first install and load the necessary packages for explanatory analysis."
   ]
  },
  {
   "cell_type": "code",
   "execution_count": 2,
   "id": "a184cb51-5090-4292-8934-f609f0a09c1c",
   "metadata": {},
   "outputs": [
    {
     "name": "stderr",
     "output_type": "stream",
     "text": [
      "── \u001b[1mAttaching core tidyverse packages\u001b[22m ──────────────────────── tidyverse 2.0.0 ──\n",
      "\u001b[32m✔\u001b[39m \u001b[34mdplyr    \u001b[39m 1.1.4     \u001b[32m✔\u001b[39m \u001b[34mreadr    \u001b[39m 2.1.5\n",
      "\u001b[32m✔\u001b[39m \u001b[34mforcats  \u001b[39m 1.0.0     \u001b[32m✔\u001b[39m \u001b[34mstringr  \u001b[39m 1.5.1\n",
      "\u001b[32m✔\u001b[39m \u001b[34mggplot2  \u001b[39m 3.5.0     \u001b[32m✔\u001b[39m \u001b[34mtibble   \u001b[39m 3.2.1\n",
      "\u001b[32m✔\u001b[39m \u001b[34mlubridate\u001b[39m 1.9.3     \u001b[32m✔\u001b[39m \u001b[34mtidyr    \u001b[39m 1.3.1\n",
      "\u001b[32m✔\u001b[39m \u001b[34mpurrr    \u001b[39m 1.0.2     \n",
      "── \u001b[1mConflicts\u001b[22m ────────────────────────────────────────── tidyverse_conflicts() ──\n",
      "\u001b[31m✖\u001b[39m \u001b[34mdplyr\u001b[39m::\u001b[32mfilter()\u001b[39m         masks \u001b[34mstats\u001b[39m::filter()\n",
      "\u001b[31m✖\u001b[39m \u001b[34mreadr\u001b[39m::\u001b[32mguess_encoding()\u001b[39m masks \u001b[34mrvest\u001b[39m::guess_encoding()\n",
      "\u001b[31m✖\u001b[39m \u001b[34mdplyr\u001b[39m::\u001b[32mlag()\u001b[39m            masks \u001b[34mstats\u001b[39m::lag()\n",
      "\u001b[36mℹ\u001b[39m Use the conflicted package (\u001b[3m\u001b[34m<http://conflicted.r-lib.org/>\u001b[39m\u001b[23m) to force all conflicts to become errors\n"
     ]
    },
    {
     "ename": "ERROR",
     "evalue": "Error in library(tidymodels): there is no package called ‘tidymodels’\n",
     "output_type": "error",
     "traceback": [
      "Error in library(tidymodels): there is no package called ‘tidymodels’\nTraceback:\n",
      "1. library(tidymodels)"
     ]
    }
   ],
   "source": [
    "library(rvest)\n",
    "library(tidyverse)\n",
    "library(tidymodels)\n",
    "library(tidyr)\n",
    "library(ggplot2)"
   ]
  },
  {
   "cell_type": "markdown",
   "id": "7b911806-f5f3-4810-a4a6-cdc1d15f2bbf",
   "metadata": {},
   "source": [
    "We read in our dataset from Kaggle:"
   ]
  },
  {
   "cell_type": "code",
   "execution_count": 6,
   "id": "e3ab9765-c82b-46be-86a9-d097d8bf289b",
   "metadata": {},
   "outputs": [
    {
     "name": "stderr",
     "output_type": "stream",
     "text": [
      "\u001b[1mRows: \u001b[22m\u001b[34m100000\u001b[39m \u001b[1mColumns: \u001b[22m\u001b[34m18\u001b[39m\n",
      "\u001b[36m──\u001b[39m \u001b[1mColumn specification\u001b[22m \u001b[36m────────────────────────────────────────────────────────\u001b[39m\n",
      "\u001b[1mDelimiter:\u001b[22m \",\"\n",
      "\u001b[31mchr\u001b[39m  (1): class\n",
      "\u001b[32mdbl\u001b[39m (17): obj_ID, alpha, delta, u, g, r, i, z, run_ID, rerun_ID, cam_col, fi...\n",
      "\n",
      "\u001b[36mℹ\u001b[39m Use `spec()` to retrieve the full column specification for this data.\n",
      "\u001b[36mℹ\u001b[39m Specify the column types or set `show_col_types = FALSE` to quiet this message.\n"
     ]
    },
    {
     "name": "stdout",
     "output_type": "stream",
     "text": [
      "Rows: 100,000\n",
      "Columns: 18\n",
      "$ obj_ID      \u001b[3m\u001b[90m<dbl>\u001b[39m\u001b[23m 1.237661e+18, 1.237665e+18, 1.237661e+18, 1.237663e+18, 1.…\n",
      "$ alpha       \u001b[3m\u001b[90m<dbl>\u001b[39m\u001b[23m 135.689107, 144.826101, 142.188790, 338.741038, 345.282593…\n",
      "$ delta       \u001b[3m\u001b[90m<dbl>\u001b[39m\u001b[23m 32.4946318, 31.2741849, 35.5824442, -0.4028276, 21.1838656…\n",
      "$ u           \u001b[3m\u001b[90m<dbl>\u001b[39m\u001b[23m 23.87882, 24.77759, 25.26307, 22.13682, 19.43718, 23.48827…\n",
      "$ g           \u001b[3m\u001b[90m<dbl>\u001b[39m\u001b[23m 22.27530, 22.83188, 22.66389, 23.77656, 17.58028, 23.33776…\n",
      "$ r           \u001b[3m\u001b[90m<dbl>\u001b[39m\u001b[23m 20.39501, 22.58444, 20.60976, 21.61162, 16.49747, 21.32195…\n",
      "$ i           \u001b[3m\u001b[90m<dbl>\u001b[39m\u001b[23m 19.16573, 21.16812, 19.34857, 20.50454, 15.97711, 20.25615…\n",
      "$ z           \u001b[3m\u001b[90m<dbl>\u001b[39m\u001b[23m 18.79371, 21.61427, 18.94827, 19.25010, 15.54461, 19.54544…\n",
      "$ run_ID      \u001b[3m\u001b[90m<dbl>\u001b[39m\u001b[23m 3606, 4518, 3606, 4192, 8102, 8102, 7773, 7773, 3716, 5934…\n",
      "$ rerun_ID    \u001b[3m\u001b[90m<dbl>\u001b[39m\u001b[23m 301, 301, 301, 301, 301, 301, 301, 301, 301, 301, 301, 301…\n",
      "$ cam_col     \u001b[3m\u001b[90m<dbl>\u001b[39m\u001b[23m 2, 5, 2, 3, 3, 3, 2, 2, 5, 4, 3, 4, 2, 2, 3, 4, 5, 5, 5, 5…\n",
      "$ field_ID    \u001b[3m\u001b[90m<dbl>\u001b[39m\u001b[23m 79, 119, 120, 214, 137, 110, 462, 346, 108, 122, 27, 112, …\n",
      "$ spec_obj_ID \u001b[3m\u001b[90m<dbl>\u001b[39m\u001b[23m 6.543777e+18, 1.176014e+19, 5.152200e+18, 1.030107e+19, 6.…\n",
      "$ class       \u001b[3m\u001b[90m<chr>\u001b[39m\u001b[23m \"GALAXY\", \"GALAXY\", \"GALAXY\", \"GALAXY\", \"GALAXY\", \"QSO\", \"…\n",
      "$ redshift    \u001b[3m\u001b[90m<dbl>\u001b[39m\u001b[23m 6.347936e-01, 7.791360e-01, 6.441945e-01, 9.323456e-01, 1.…\n",
      "$ plate       \u001b[3m\u001b[90m<dbl>\u001b[39m\u001b[23m 5812, 10445, 4576, 9149, 6121, 5026, 11069, 6183, 6625, 24…\n",
      "$ MJD         \u001b[3m\u001b[90m<dbl>\u001b[39m\u001b[23m 56354, 58158, 55592, 58039, 56187, 55855, 58456, 56210, 56…\n",
      "$ fiber_ID    \u001b[3m\u001b[90m<dbl>\u001b[39m\u001b[23m 171, 427, 299, 775, 842, 741, 113, 15, 719, 232, 525, 855,…\n"
     ]
    }
   ],
   "source": [
    "URL <- 'https://raw.githubusercontent.com/jasukej/dsci-100-2024w2-group-19/main/data/star_classification.csv'\n",
    "raw_data <- read_csv(URL)\n",
    "glimpse(raw_data)"
   ]
  },
  {
   "cell_type": "markdown",
   "id": "056cd4ce-748d-453a-a5b1-7b1b7532dfd1",
   "metadata": {
    "tags": []
   },
   "source": [
    "#### **Methods**"
   ]
  },
  {
   "cell_type": "code",
   "execution_count": null,
   "id": "e279c8c5-3a48-4c8f-bb17-921e69c684eb",
   "metadata": {},
   "outputs": [],
   "source": []
  },
  {
   "cell_type": "markdown",
   "id": "5abcade2-a16c-4d11-a0f7-89213da077cb",
   "metadata": {},
   "source": [
    "#### **Expected outcomes and Significance:**"
   ]
  },
  {
   "cell_type": "code",
   "execution_count": null,
   "id": "a3a1d745-a380-4de3-aec8-4d12cd8095a4",
   "metadata": {},
   "outputs": [],
   "source": []
  }
 ],
 "metadata": {
  "kernelspec": {
   "display_name": "R",
   "language": "R",
   "name": "ir"
  },
  "language_info": {
   "codemirror_mode": "r",
   "file_extension": ".r",
   "mimetype": "text/x-r-source",
   "name": "R",
   "pygments_lexer": "r",
   "version": "4.2.3"
  }
 },
 "nbformat": 4,
 "nbformat_minor": 5
}
