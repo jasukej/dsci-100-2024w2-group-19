{
 "cells": [
  {
   "cell_type": "markdown",
   "id": "a96314cb-aaf9-4cdb-99e5-9833c9a0c84b",
   "metadata": {},
   "source": [
    "### Group 19 Project Proposal"
   ]
  },
  {
   "cell_type": "markdown",
   "id": "295b6789-6577-4528-9bda-f13a4aa18803",
   "metadata": {},
   "source": [
    "Title: Stellar Classification Data"
   ]
  },
  {
   "cell_type": "markdown",
   "id": "80c2c7a4-9374-48f7-9c30-b3892cbc3d42",
   "metadata": {},
   "source": [
    "#### **Introduction:** "
   ]
  },
  {
   "cell_type": "markdown",
   "id": "e54f2a90-f9b1-4845-b3f8-6d42938e42f5",
   "metadata": {},
   "source": [
    "Our project leverages the Sloan Digital Sky Survey's seventeenth release (SDSS17), which includes a Stellar Classification Dataset with over 100,000 celestial observations, to distinguish between stars, galaxies, and quasars based on their spectral properties. This classification is critical because each type of celestial body has a distinct spectral signature: stars shine with a steady light, galaxies emit light from vast star collections and interstellar material, and quasars emit intense energy from supermassive black holes. By accurately classifying these entities, we gain a better understanding of the universe's structure and evolutionary processes."
   ]
  },
  {
   "cell_type": "markdown",
   "id": "73527177-a5a2-486c-9362-95d216741afa",
   "metadata": {},
   "source": [
    "**Question:** Can we predict whether a stellar object is a star, a galaxy, or a quasar?"
   ]
  },
  {
   "cell_type": "markdown",
   "id": "daf06f95-507f-4347-bd06-bcaa550712c1",
   "metadata": {},
   "source": [
    "Our data set comes from Kaggle and explores ...\n"
   ]
  },
  {
   "cell_type": "markdown",
   "id": "85c9660f-f521-48ce-a3b4-b59fbb81d644",
   "metadata": {},
   "source": [
    "References: "
   ]
  },
  {
   "cell_type": "markdown",
   "id": "1ffc0d87-c42e-402c-99aa-b505dfccba86",
   "metadata": {},
   "source": [
    "#### **Preliminary exploratory data analysis** "
   ]
  },
  {
   "cell_type": "markdown",
   "id": "14df794d-53c1-490a-a79e-f58769460295",
   "metadata": {},
   "source": [
    "We first install and load the necessary packages for explanatory analysis."
   ]
  },
  {
   "cell_type": "code",
   "execution_count": null,
   "id": "a184cb51-5090-4292-8934-f609f0a09c1c",
   "metadata": {},
   "outputs": [],
   "source": [
    "library(rvest)\n",
    "library(tidyverse)\n",
    "library(tidymodels)\n",
    "library(tidyr)"
   ]
  },
  {
   "cell_type": "markdown",
   "id": "7b911806-f5f3-4810-a4a6-cdc1d15f2bbf",
   "metadata": {},
   "source": [
    "We read in our dataset from Kaggle:"
   ]
  },
  {
   "cell_type": "code",
   "execution_count": null,
   "id": "e3ab9765-c82b-46be-86a9-d097d8bf289b",
   "metadata": {},
   "outputs": [],
   "source": [
    "URL <- ''\n",
    "raw_data <- read_csv(URL)\n",
    "glimpse(raw_data)"
   ]
  }
 ],
 "metadata": {
  "kernelspec": {
   "display_name": "R",
   "language": "R",
   "name": "ir"
  },
  "language_info": {
   "codemirror_mode": "r",
   "file_extension": ".r",
   "mimetype": "text/x-r-source",
   "name": "R",
   "pygments_lexer": "r",
   "version": "4.2.3"
  }
 },
 "nbformat": 4,
 "nbformat_minor": 5
}
