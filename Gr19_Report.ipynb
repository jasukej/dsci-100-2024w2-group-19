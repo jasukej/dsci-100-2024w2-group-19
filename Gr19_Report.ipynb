{
 "cells": [
  {
   "cell_type": "markdown",
   "id": "a96314cb-aaf9-4cdb-99e5-9833c9a0c84b",
   "metadata": {},
   "source": [
    "# **Galactic R-velations: Classifying Celestial Objects with K-Nearest Neighbors**"
   ]
  },
  {
   "cell_type": "markdown",
   "id": "295b6789-6577-4528-9bda-f13a4aa18803",
   "metadata": {},
   "source": [
    "# **Table of Contents**"
   ]
  },
  {
   "cell_type": "markdown",
   "id": "97f8c0af-95b3-4775-ad22-4b4d196c874b",
   "metadata": {},
   "source": [
    "### Introduction"
   ]
  },
  {
   "cell_type": "markdown",
   "id": "4a225036-d9f0-4cc1-98f2-f76abe311456",
   "metadata": {},
   "source": [
    "> What is Stellar Classification?\n",
    "> \n",
    "> Classifying Celestial Objects & Our Question\n",
    "> \n",
    "> Dataset\n",
    "> \n",
    "> Literature Review"
   ]
  },
  {
   "cell_type": "markdown",
   "id": "edac6ef2-fe6e-4dd6-99e8-147896eba57d",
   "metadata": {},
   "source": [
    "### Methods & Results"
   ]
  },
  {
   "cell_type": "markdown",
   "id": "8ef14044-7d39-4aca-a164-6937265c6db7",
   "metadata": {},
   "source": [
    "> 1. Load Data\n",
    "> \n",
    "> 2. Clean & Wrangle Data\n",
    "> \n",
    "> 3. Exploratory Data Analysis\n",
    "> \n",
    "> 4. Visualize Relationships\n",
    "> \n",
    "> 5. Data Analysis"
   ]
  },
  {
   "cell_type": "markdown",
   "id": "9c058d08-2440-4d12-819f-fa25fae18574",
   "metadata": {},
   "source": [
    "### Results"
   ]
  },
  {
   "cell_type": "markdown",
   "id": "9cf40f75-ec23-406c-94ec-6fb8d66717cf",
   "metadata": {},
   "source": [
    "### Discussion"
   ]
  },
  {
   "cell_type": "markdown",
   "id": "013e9d3c-8a04-46b4-b600-a92420814c79",
   "metadata": {},
   "source": [
    "> Summary\n",
    "> \n",
    "> Expected Findings\n",
    "> \n",
    "> Impacts\n",
    "> \n",
    "> Future Questions"
   ]
  },
  {
   "cell_type": "markdown",
   "id": "c247540c-bb5a-4dea-9b1f-226b71142363",
   "metadata": {},
   "source": [
    "### References"
   ]
  },
  {
   "cell_type": "markdown",
   "id": "0e02a50c-dd56-4e3e-a449-5dae23e0fe1a",
   "metadata": {},
   "source": [
    "# **Introduction**"
   ]
  },
  {
   "cell_type": "markdown",
   "id": "5aa2a8ae-e790-4341-ad4f-30496e5631d6",
   "metadata": {},
   "source": [
    "### What is Stellar Classification?"
   ]
  },
  {
   "cell_type": "markdown",
   "id": "e54f2a90-f9b1-4845-b3f8-6d42938e42f5",
   "metadata": {},
   "source": [
    "Our project leverages the Sloan Digital Sky Survey's seventeenth release (SDSS17), which includes a Stellar Classification Dataset with over 100,000 celestial observations, to distinguish between stars, galaxies, and quasars based on their spectral properties. Each type of celestial body has a distinct spectral signature: stars shine with a steady light, galaxies emit light from vast star collections, and quasars emit intense energy from supermassive black holes. By accurately classifying these entities, we gain a better understanding of the universe's structure and evolutionary processes."
   ]
  },
  {
   "cell_type": "markdown",
   "id": "c651feb7-0e16-45af-8082-e5b522b186c3",
   "metadata": {},
   "source": [
    "### Classifying Celestial Objects & Our Question"
   ]
  },
  {
   "cell_type": "markdown",
   "id": "73527177-a5a2-486c-9362-95d216741afa",
   "metadata": {},
   "source": [
    "**Question:** Can we predict whether a stellar object is a star, a galaxy, or a quasar based on their photometric ratios and redshifts?"
   ]
  },
  {
   "cell_type": "markdown",
   "id": "03d16c09-a6b9-4feb-8424-04d4651a44df",
   "metadata": {},
   "source": [
    "### Dataset"
   ]
  },
  {
   "cell_type": "markdown",
   "id": "daf06f95-507f-4347-bd06-bcaa550712c1",
   "metadata": {},
   "source": [
    "Our data set comes from Kaggle and explores the classification of celestial objects into stars, galaxies, and quasars.\n",
    "The variables for this dataset include observed characteristics of the object's electromagnetic radiation, its unique identifier, and identification labels of each observation."
   ]
  },
  {
   "cell_type": "markdown",
   "id": "752fb6d4-aeff-4b61-ad2c-252b8a4c21f0",
   "metadata": {},
   "source": [
    "### Determining Features through Literature Review"
   ]
  },
  {
   "cell_type": "markdown",
   "id": "f7b50d33-5917-400d-b58c-6a5a4dd322d6",
   "metadata": {},
   "source": [
    "Research has proven **color indices** and **photometric redshifts** to be good metrics for celestial object classification (Wolf et al., 2017). Color indices (u-g, g-r, r-i, and i-z) are the differences between the magnitudes of the object in two different filters, representing the object's color. They help to reveal the physical properties of celestial objects (Elting et al., 2018). The redshift value is based on increases in radiation wavelength and points to an object's lifetime and motion."
   ]
  },
  {
   "cell_type": "markdown",
   "id": "7891c37a-6792-43d8-a5ff-cfdd77aba882",
   "metadata": {},
   "source": [
    "# **Methodology**"
   ]
  },
  {
   "cell_type": "markdown",
   "id": "74e5e266-963f-4738-9c31-34b8c64ed30b",
   "metadata": {},
   "source": [
    "1. Load Data\n",
    "2. Clean & Wrangle Data\n",
    "3. Exploratory Data Analysis\n",
    "4. Visualize Exploratory Data\n",
    "5. Data Analysis\n",
    "> 5.1 Upsample uneven data\n",
    ">\n",
    "> 5.2 Standardize parameters\n",
    "> \n",
    "> 5.3 Choosing the best k\n",
    "> \n",
    "> 5.4 Fitting classifier with best k\n",
    ">\n",
    "> 5.5 Making predictions on testing data\n",
    "6. Evaluating Results"
   ]
  },
  {
   "cell_type": "markdown",
   "id": "1ffc0d87-c42e-402c-99aa-b505dfccba86",
   "metadata": {},
   "source": [
    "#### **Preliminary exploratory data analysis** "
   ]
  },
  {
   "cell_type": "markdown",
   "id": "14df794d-53c1-490a-a79e-f58769460295",
   "metadata": {},
   "source": [
    "We first install and load the necessary packages for explanatory analysis."
   ]
  },
  {
   "cell_type": "code",
   "execution_count": 3,
   "id": "277321ca-29fe-4477-9d33-70f1d6b78127",
   "metadata": {},
   "outputs": [
    {
     "name": "stderr",
     "output_type": "stream",
     "text": [
      "Warning message in install.packages(\"kknn\"):\n",
      "“installation of package ‘kknn’ had non-zero exit status”\n",
      "Updating HTML index of packages in '.Library'\n",
      "\n",
      "Making 'packages.html' ...\n",
      " done\n",
      "\n",
      "Updating HTML index of packages in '.Library'\n",
      "\n",
      "Making 'packages.html' ...\n",
      " done\n",
      "\n",
      "Updating HTML index of packages in '.Library'\n",
      "\n",
      "Making 'packages.html' ...\n",
      " done\n",
      "\n"
     ]
    }
   ],
   "source": [
    "# Run this cell if neccessary\n",
    "install.packages('kknn')\n",
    "install.packages(\"themis\")\n",
    "install.packages('cowplot')"
   ]
  },
  {
   "cell_type": "code",
   "execution_count": 4,
   "id": "a184cb51-5090-4292-8934-f609f0a09c1c",
   "metadata": {},
   "outputs": [
    {
     "name": "stderr",
     "output_type": "stream",
     "text": [
      "\n",
      "Attaching package: ‘shiny’\n",
      "\n",
      "\n",
      "The following object is masked from ‘package:infer’:\n",
      "\n",
      "    observe\n",
      "\n",
      "\n",
      "\n",
      "Attaching package: ‘cowplot’\n",
      "\n",
      "\n",
      "The following object is masked from ‘package:lubridate’:\n",
      "\n",
      "    stamp\n",
      "\n",
      "\n"
     ]
    }
   ],
   "source": [
    "# Run this cell to download all necessary packages before continuing\n",
    "library(rvest)\n",
    "library(tidyverse)\n",
    "library(tidymodels)\n",
    "library(tidyr)\n",
    "library(dplyr)\n",
    "library(ggplot2)\n",
    "#library(kknn)\n",
    "library(themis)\n",
    "library(shiny)\n",
    "library(cowplot)"
   ]
  },
  {
   "cell_type": "markdown",
   "id": "3869863f-5ceb-4b56-95c6-1c4c518dfece",
   "metadata": {},
   "source": [
    "## **1) Load Data**"
   ]
  },
  {
   "cell_type": "markdown",
   "id": "7b911806-f5f3-4810-a4a6-cdc1d15f2bbf",
   "metadata": {},
   "source": [
    "We read in our dataset from the URL generated through GitHub:"
   ]
  },
  {
   "cell_type": "code",
   "execution_count": null,
   "id": "e3ab9765-c82b-46be-86a9-d097d8bf289b",
   "metadata": {},
   "outputs": [],
   "source": [
    "URL <- 'https://raw.githubusercontent.com/jasukej/dsci-100-2024w2-group-19/main/data/star_classification.csv'\n",
    "celestial_data <- read_csv(URL)\n",
    "glimpse(celestial_data)"
   ]
  },
  {
   "cell_type": "markdown",
   "id": "b780af27-6b36-47dc-9dcf-3e171c266a46",
   "metadata": {},
   "source": [
    "The total set of variables in this data set are:"
   ]
  },
  {
   "cell_type": "markdown",
   "id": "319a118f-75d6-4bd8-ad00-48746d61bb30",
   "metadata": {},
   "source": [
    "1. **obj_ID**: Object Identifier, the unique value that identifies the object in the image catalog used by the CAS\n",
    "2. **alpha**: Right Ascension angle (at J2000 epoch)\n",
    "3. **delta**: Declination angle (at J2000 epoch)\n",
    "4. **u**: Ultraviolet filter in the photometric system\n",
    "5. **g**: Green filter in the photometric system\n",
    "6. **r**: Red filter in the photometric system\n",
    "7. **i**: Near Infrared filter in the photometric system\n",
    "8. **z**: Infrared filter in the photometric system\n",
    "9. **run_ID**: Run Number used to identify the specific scan\n",
    "10. **rereun_ID**: Rerun Number to specify how the image was processed\n",
    "11. **cam_col**: Camera column to identify the scanline within the run\n",
    "12. **field_ID**: Field number to identify each field\n",
    "13. **spec_obj_ID**: Unique ID used for optical spectroscopic objects (this means that 2 different observations with the same spec_obj_ID must share the output class)\n",
    "14. **class**: object class (galaxy, star or quasar object)\n",
    "15. **redshift**: redshift value based on the increase in wavelength\n",
    "16. **plate**: plate ID, identifies each plate in SDSS\n",
    "17. **MJD**: Modified Julian Date, used to indicate when a given piece of SDSS data was taken\n",
    "18. **fiber_ID**: fiber ID that identifies the fiber that pointed the light at the focal plane in each observation"
   ]
  },
  {
   "cell_type": "markdown",
   "id": "7a0a5416-f114-4f99-9fa4-5718a8993c25",
   "metadata": {},
   "source": [
    "## **2) Clean & Wrangle Data**"
   ]
  },
  {
   "cell_type": "markdown",
   "id": "ba1db20f-c3cd-42d6-96fb-b453ba645c3e",
   "metadata": {},
   "source": [
    "The dataset is already tidy and contains no null values. \n",
    "* We remove all duplicate observations with the same `spec_obj_ID`, as they refer to the same celestial object. \n",
    "* Based on the literature review, we will mutate the data to **display color indices in order of the electromagnetic radiation spectrum**.\n",
    "* To fit the data with our analysis, we establish the `class` as a categorical variable, and select only the relevant variables to our classification problem."
   ]
  },
  {
   "cell_type": "markdown",
   "id": "f4e6b405-d9ed-4059-8165-3cb223a06831",
   "metadata": {},
   "source": [
    "Our clean and wrangled data will be assigned to a new tibble called `tidy_celestial`."
   ]
  },
  {
   "cell_type": "code",
   "execution_count": null,
   "id": "5f7e8876-6cbd-45d5-ac55-035d5cf2be4d",
   "metadata": {},
   "outputs": [],
   "source": [
    "tidy_celestial <- celestial_data |>\n",
    "\n",
    "# Keep only distinct observations with the same spectral object IDs\n",
    "    distinct(spec_obj_ID, .keep_all = TRUE) |>\n",
    "\n",
    "# Establish class as a categorical variable\n",
    "    mutate(class = as_factor(class)) |>\n",
    "\n",
    "# Create new columns for the ratio of color indices\n",
    "    mutate(u_g = u - g,     # Ultraviolet - Green\n",
    "           g_r = g - r,     # Green - Red\n",
    "           r_i = r - i,     # Red - Near Infrared\n",
    "           i_z = i - z)  |> # Near Infrared - Infrared \n",
    "\n",
    "# Filter missing values\n",
    "    filter(!is.na(u_g + g_r + r_i + i_z + redshift)) |>\n",
    "\n",
    "# Select only relevant features\n",
    "    select(class, u_g, g_r, r_i, i_z, redshift) \n",
    "\n",
    "# Set table title\n",
    "title <- \"Table 1: Tidy Celestial Object Dataset\"\n",
    "cat(\"\\n\", title, \"\\n\")\n",
    "                    \n",
    "head(tidy_celestial)"
   ]
  },
  {
   "cell_type": "markdown",
   "id": "b62984f8-0ffe-4534-bce9-2614cea82368",
   "metadata": {},
   "source": [
    "## **3) Exploratory Data Analysis**"
   ]
  },
  {
   "cell_type": "markdown",
   "id": "5c2d2d8f-c137-4cb8-90a7-5cd782717603",
   "metadata": {},
   "source": [
    "#### **3.1) Split training and testing data**"
   ]
  },
  {
   "cell_type": "markdown",
   "id": "f3f906f0-db1c-4ee5-bd1f-9f207e0e7344",
   "metadata": {},
   "source": [
    "First we split the `tidy_celestial` dataset into training `celestial_train` and `celestial_test` sets to ensure the classifier is unbiased towards data outside the training set (in this case, our testing data). We have chosen to use a 75/25 split; 75% of our data will be in the training set and 25% will be in the testing set. A larger proportion of training data has been found to be beneficial for the accuracy of the classifier."
   ]
  },
  {
   "cell_type": "markdown",
   "id": "5c92b8ae-c052-486f-81c3-6bc9e28173bf",
   "metadata": {},
   "source": [
    "We do not check for missing values as we have previously filtered them out."
   ]
  },
  {
   "cell_type": "code",
   "execution_count": null,
   "id": "c183659b-00c1-43f4-99e8-16514e3008ba",
   "metadata": {},
   "outputs": [],
   "source": [
    "set.seed(2024)\n",
    "\n",
    "celestial_split <- initial_split(tidy_celestial, prop = 0.75, strata = class)\n",
    "celestial_train <- training(celestial_split)\n",
    "celestial_test <- testing(celestial_split)\n",
    "\n",
    "# checking datasets\n",
    "glimpse(celestial_train)\n",
    "glimpse(celestial_test)"
   ]
  },
  {
   "cell_type": "markdown",
   "id": "83eb9de2-f33e-4760-920a-6ac7e5d9dd46",
   "metadata": {},
   "source": [
    "#### **3.2) Proportions of categorical data**"
   ]
  },
  {
   "cell_type": "markdown",
   "id": "f28a1b0c-4582-413e-afd0-0968a0147973",
   "metadata": {},
   "source": [
    "We verify that the `class` column in our data contains a roughly equal number of positive and negative responses in order to guarantee a reliable and unbiased classifier. To accomplish this, we count each category in the `class` column and use a bar graph to visualize the proportions."
   ]
  },
  {
   "cell_type": "code",
   "execution_count": null,
   "id": "f74c301f-299f-493f-a9d7-0994269ba61b",
   "metadata": {},
   "outputs": [],
   "source": [
    "# Finding distribution of classes\n",
    "options(repr.plot.height = 5, repr.plot.width = 5)\n",
    "training_count <- celestial_train |> group_by(class) |> summarize(count = n())\n",
    "\n",
    "training_count_plot <- training_count |> \n",
    "                        ggplot(aes(x = class, y = count, fill = class)) + \n",
    "                        geom_bar(stat = \"identity\") + \n",
    "                        geom_text(aes(label = count), vjust = -0.5, position = position_dodge(width = 0.9)) +\n",
    "                        labs(x = \"Object type\", y = \"Count\") +\n",
    "                        ggtitle(\"Figure 1: Celestial Objects Detected\") + \n",
    "                        theme(text = element_text(size = 14))\n",
    "training_count_plot"
   ]
  },
  {
   "cell_type": "markdown",
   "id": "6573fac0-e3a8-48b2-8ec8-1198c18792b4",
   "metadata": {},
   "source": [
    "We will remove one abnormality in our distribution."
   ]
  },
  {
   "cell_type": "code",
   "execution_count": null,
   "id": "2d521c23-33cc-49ed-93cb-88a1cc8ec777",
   "metadata": {},
   "outputs": [],
   "source": [
    "# Identify abnormalities in distribution\n",
    "celestial_train |> filter(i_z > 10000)"
   ]
  },
  {
   "cell_type": "code",
   "execution_count": null,
   "id": "c622d545-baf7-4d73-be55-b8958519a6f4",
   "metadata": {},
   "outputs": [],
   "source": [
    "celestial_train <- celestial_train |> filter(i_z < 10000)"
   ]
  },
  {
   "cell_type": "markdown",
   "id": "8698cdaf-2c6e-4fba-905f-263d49f64c86",
   "metadata": {},
   "source": [
    "#### **3.3) Parameter distributions**"
   ]
  },
  {
   "cell_type": "markdown",
   "id": "eb91aad3-3449-4076-9b8e-7851bdfe3230",
   "metadata": {},
   "source": [
    "Next, we compute the summary statistics of the parameters `u_g`, `g_r`, `r_i`, `i_z`, and `redshift` to check if we will need to standardize our data."
   ]
  },
  {
   "cell_type": "code",
   "execution_count": null,
   "id": "699d2ef8-0163-4c76-b30a-d997e55914e9",
   "metadata": {},
   "outputs": [],
   "source": [
    "# Table for Maximum Values\n",
    "max_table <- celestial_train |>\n",
    "    group_by(class) |>\n",
    "    summarize(across(c(u_g, g_r, r_i, i_z, redshift), \n",
    "                   ~ max(., na.rm = TRUE), \n",
    "                   .names = \"max_{.col}\"))\n",
    "\n",
    "# Table for Minimum Values\n",
    "min_table <- celestial_train |>\n",
    "    group_by(class) |>\n",
    "    summarize(across(c(u_g, g_r, r_i, i_z, redshift), \n",
    "                   ~ min(., na.rm = TRUE), \n",
    "                   .names = \"min_{.col}\"))\n",
    "\n",
    "# Table for Median Values\n",
    "mean_table <- celestial_train |>\n",
    "    group_by(class) |>\n",
    "    summarize(across(c(u_g, g_r, r_i, i_z, redshift), \n",
    "                   ~ mean(., na.rm = TRUE), \n",
    "                   .names = \"mean_{.col}\"))\n",
    "\n",
    "max_table\n",
    "min_table\n",
    "mean_table"
   ]
  },
  {
   "cell_type": "markdown",
   "id": "52eacfbc-a702-4093-b319-9307a7b36a1d",
   "metadata": {},
   "source": [
    "### **Summary of Exploratory Data Analysis**"
   ]
  },
  {
   "cell_type": "markdown",
   "id": "8464144d-89a0-41fa-a8aa-2a8f095d7710",
   "metadata": {},
   "source": [
    "* From the bar plot displaying counts of celestial objects, we see that our training data is **uneven** and must be **upsampled** when training our algorithm.\n",
    "\n",
    "* The summary statistics show distinct differences between the mean predictor values between classes. The max and min values verify that there are no longer any problematic outliers in the data. "
   ]
  },
  {
   "cell_type": "markdown",
   "id": "ceb3fe4f-8b2a-4c14-82b3-98a2686e4f64",
   "metadata": {},
   "source": [
    "## **4) Visualizing relationships**"
   ]
  },
  {
   "cell_type": "markdown",
   "id": "bd4a8f28-7a84-4e37-ade5-96c065f3f6e2",
   "metadata": {},
   "source": [
    "We will now visualize our results using a **box plot** displaying the correlation between the predictors and the response variable `class`."
   ]
  },
  {
   "cell_type": "code",
   "execution_count": null,
   "id": "bc1b3753-8fa4-4d22-90ae-976c84cf2c33",
   "metadata": {},
   "outputs": [],
   "source": [
    "# Pivot to display predictors beside the class\n",
    "predictor_distribution <- pivot_longer(celestial_train, -class, names_to = \"predictor\", values_to = \"value\")"
   ]
  },
  {
   "cell_type": "code",
   "execution_count": null,
   "id": "62512480-f137-4cb1-bfac-c251d586776a",
   "metadata": {},
   "outputs": [],
   "source": [
    "options(repr.plot.width = 10, repr.plot.height = 10)\n",
    "\n",
    "# Plotting each distribution\n",
    "training_boxplots <- ggplot(predictor_distribution, aes(x = class, y = value, fill = class)) + \n",
    "                        geom_boxplot() +  \n",
    "                        facet_wrap(~ predictor, scales = \"free_y\") +  # Each predictor is its own plot\n",
    "                        labs(y = \"Value\", x = \"Class\") + \n",
    "                        ggtitle(\"Distribution of predictors per class\") +\n",
    "                        theme_minimal() +\n",
    "                        theme(plot.title = element_text(size = 18, face = \"bold\", hjust = 0.5),\n",
    "                              axis.title = element_text(size = 18),\n",
    "                              axis.text = element_text(size = 12), \n",
    "                              axis.text.x = element_text(angle = 45, size = 12),\n",
    "                              strip.text = element_text(size = 15),\n",
    "                              legend.title = element_text(size = 14, face = \"bold\"),\n",
    "                              legend.text = element_text(size = 12))\n",
    "training_boxplots"
   ]
  },
  {
   "cell_type": "markdown",
   "id": "707b4ac1-8a12-4f7a-92c6-57310e7aa767",
   "metadata": {},
   "source": [
    "Looking at the box plots, despite some overlap in the color indices, the distribution of predictor values for each class is **distinct** when compounded with the redshift values. "
   ]
  },
  {
   "cell_type": "markdown",
   "id": "25169b2d-6e2d-452e-84e1-c0a05ffa9f79",
   "metadata": {},
   "source": [
    "## **5) Data Analysis**"
   ]
  },
  {
   "cell_type": "markdown",
   "id": "5f84f42c-d481-4e9c-9ba2-eebba963f0e5",
   "metadata": {},
   "source": [
    "As we have already split the training and testing datasets, we will first upsample the uneven data, then standardize our parameters, and create our K-nearest neighbour classifier with celestial_train. The following is a workflow of our methods:"
   ]
  },
  {
   "cell_type": "markdown",
   "id": "f6fcf370-bca3-4018-8df8-5e4058e78116",
   "metadata": {},
   "source": [
    "**5.1) Upsample uneven data**\n",
    "\n",
    "> a) Pre-upsampling visualization\n",
    ">\n",
    "> b) Upsample the data\n",
    ">\n",
    "> c) Post-upsampling visualization\n",
    "\n",
    "**5.2) Standardize parameters**\n",
    "\n",
    "**5.3) Choosing a k**\n",
    "\n",
    "> a) Create 5 splits\n",
    ">\n",
    "> b) Create and tune k-classification spec\n",
    "> \n",
    "> c) Compute mean accuracies of k = [15,40] to avoid overfitting and underfitting\n",
    "\n",
    "**5.4) Fitting classifier with determined best k**\n",
    "\n",
    "**5.5) Testing classifier on testing data**"
   ]
  },
  {
   "cell_type": "markdown",
   "id": "056cd4ce-748d-453a-a5b1-7b1b7532dfd1",
   "metadata": {
    "tags": []
   },
   "source": [
    "#### **5.1) Upsampling uneven data**\n",
    "> a) Pre-upsampling visualization\n",
    ">\n",
    "> b) Upsample the data\n",
    ">\n",
    "> c) Post-upsampling visualization"
   ]
  },
  {
   "cell_type": "markdown",
   "id": "70c5192d-a9dd-472b-b1ec-4f33167cd196",
   "metadata": {},
   "source": [
    "#### **a) Pre-upsampling visualization**"
   ]
  },
  {
   "cell_type": "markdown",
   "id": "588b1c23-bd0c-460e-9a3e-7767f65d6718",
   "metadata": {},
   "source": [
    "We visualize the data before upsampling; the plot for the raw training data will be named `not_ups_plot`."
   ]
  },
  {
   "cell_type": "code",
   "execution_count": null,
   "id": "cefd41aa-2f0c-4492-a13e-7bdbadcb3a05",
   "metadata": {},
   "outputs": [],
   "source": [
    "options(repr.plot.height = 5, repr.plot.width = 10)\n",
    "\n",
    "#Assign training data\n",
    "not_ups_celestial <- celestial_train\n",
    "\n",
    "# "
   ]
  },
  {
   "cell_type": "markdown",
   "id": "65e96a9e-ec64-425e-8805-4a49a62ecfb7",
   "metadata": {},
   "source": [
    "#### **b) Upsampling data**"
   ]
  },
  {
   "cell_type": "markdown",
   "id": "fd388a22-803e-423c-9287-9400184ea4b1",
   "metadata": {},
   "source": [
    "We upsample the data in this step, and display the count of each class in `ups_count`."
   ]
  },
  {
   "cell_type": "code",
   "execution_count": null,
   "id": "c97754f7-1db0-4cd5-9be5-3863f1ae7212",
   "metadata": {},
   "outputs": [],
   "source": [
    "set.seed(2024)\n",
    "\n",
    "# themis\n",
    "# Creating recipe for upsampling\n",
    "ups_recipe <- recipe(class ~ u_g + g_r + r_i + i_z + redshift, data = celestial_train) |>\n",
    "                step_smote(class, over_ratio = 1, skip = FALSE) |>\n",
    "                prep()\n",
    "\n",
    "# Applying this to our training data\n",
    "celestial_train_ups <- bake(ups_recipe, celestial_train)\n",
    "\n",
    "# Check that our data is upsampled\n",
    "ups_count <- celestial_train_ups |> \n",
    "                group_by(class) |>\n",
    "                summarize(count = n())\n",
    "\n",
    "# Set table title\n",
    "title <- \"Table 4: Proportions of Celestial Class after Upsampling\"\n",
    "cat(\"\\n\", title, \"\\n\")\n",
    "\n",
    "# Print table\n",
    "ups_count"
   ]
  },
  {
   "cell_type": "markdown",
   "id": "d543a3c8-5dae-455d-a105-8b6683dd158f",
   "metadata": {},
   "source": [
    "#### **c) Post-upsampling visualization**"
   ]
  },
  {
   "cell_type": "markdown",
   "id": "b8fbc731-b1a1-4b2d-a932-1528931c8a7a",
   "metadata": {},
   "source": [
    "We visualize the data after upsampling. The plot for the upsampled training data will be named `upsampled_plot`."
   ]
  },
  {
   "cell_type": "code",
   "execution_count": null,
   "id": "f3ea9e33-ba91-4506-a163-839e410cc8b5",
   "metadata": {},
   "outputs": [],
   "source": []
  },
  {
   "cell_type": "markdown",
   "id": "c81f6629-8b9e-4a3f-8da9-8174ceca2122",
   "metadata": {},
   "source": [
    "Looking at the data before and after upsampling..."
   ]
  },
  {
   "cell_type": "code",
   "execution_count": null,
   "id": "cfde560b-6f44-4a79-a64c-5edefa65f76b",
   "metadata": {},
   "outputs": [],
   "source": []
  },
  {
   "cell_type": "markdown",
   "id": "dce71ed6-e798-4898-b684-4f30ae0413fc",
   "metadata": {},
   "source": [
    "From our visualization, we see that upsampling our data balances it and classifications are more sensitive to changes. This improves the recall of our model."
   ]
  },
  {
   "cell_type": "markdown",
   "id": "00e98637-e864-40ed-8806-6567e2bbda47",
   "metadata": {},
   "source": [
    "### **5.2) Standardize Parameters**"
   ]
  },
  {
   "cell_type": "markdown",
   "id": "9fc18e49-7359-4ecf-a2c3-9d00ed71c615",
   "metadata": {},
   "source": [
    "From our exploratory data analysis, we found that the standard deviations of the predictors differed by a considerable amount. As the KNN classification algorithm is sensitive to differences in scale between predictors, we will standardize the predictors through centering and then scaling the data. \n",
    "\n",
    "We will only apply standardization to the training set for now to ensure that the testing data does not influence our model whatsover. We will apply standardization separately before predicting the results of our testing data."
   ]
  },
  {
   "cell_type": "code",
   "execution_count": null,
   "id": "b08f8359-5bd9-4b52-a639-0cdc5332dfe9",
   "metadata": {},
   "outputs": [],
   "source": [
    "# Mean and standard deviation before standardization\n",
    "\n",
    "# Standardizing the data \n",
    "celestial_recipe <- recipe(class ~ u_g + g_r + r_i + i_z + redshift, data = celestial_train) |>\n",
    "                    step_scale(all_predictors()) |>\n",
    "                    step_center(all_predictors()) |>\n",
    "                    prep()\n",
    "\n",
    "scaled_train <- bake(celestial_recipe, celestial_ups_train)\n",
    "\n",
    "# Mean and standard deviation after standardization\n"
   ]
  },
  {
   "cell_type": "markdown",
   "id": "437be7ab-dc4b-42f8-8e2e-9b7e5bb3e6cb",
   "metadata": {},
   "source": [
    "### **5.3) Choosing a k**"
   ]
  },
  {
   "cell_type": "markdown",
   "id": "f11c1c23-52c5-472e-86f7-d7f42ab4bc01",
   "metadata": {},
   "source": [
    "To maximize the accuracy of our classifier, we will create 5 different splits of our training data and predict the mean accuracy across the splits for k = [1, 50]. We will then plot a line plot displaying the accuracy using the respective k neighbours."
   ]
  },
  {
   "cell_type": "markdown",
   "id": "e1c15eee-1595-4d2d-b7e6-ea38b8d2f046",
   "metadata": {},
   "source": [
    "#### **a) Creating 5 splits**"
   ]
  },
  {
   "cell_type": "code",
   "execution_count": null,
   "id": "4bdf3c24-28c7-46bd-94ce-648c02feae6d",
   "metadata": {},
   "outputs": [],
   "source": []
  },
  {
   "cell_type": "markdown",
   "id": "d042ea3b-fc5b-47b0-9356-c1792e432c04",
   "metadata": {},
   "source": [
    "#### **b) Creating specification for knn classfication**"
   ]
  },
  {
   "cell_type": "code",
   "execution_count": null,
   "id": "49c8c250-13f0-4939-9976-f45be7ee6928",
   "metadata": {},
   "outputs": [],
   "source": []
  },
  {
   "cell_type": "markdown",
   "id": "5e6d3790-f03a-49ab-9e1c-2aaaef94a3b0",
   "metadata": {},
   "source": [
    "#### **c) Computing mean accuracies of k = [15,40]**"
   ]
  },
  {
   "cell_type": "code",
   "execution_count": null,
   "id": "e39e1f9a-e8ff-4582-8871-1d1aa19fcb42",
   "metadata": {},
   "outputs": [],
   "source": []
  },
  {
   "cell_type": "markdown",
   "id": "64366771-6ab7-4ac2-9070-c78f8f2b9043",
   "metadata": {},
   "source": [
    "### **5.4) Fit classifier with best k found**"
   ]
  },
  {
   "cell_type": "code",
   "execution_count": null,
   "id": "40e81396-6896-4da3-8489-78fe7e580c3f",
   "metadata": {},
   "outputs": [],
   "source": []
  },
  {
   "cell_type": "markdown",
   "id": "87e98b3c-587b-450f-b951-622f7e5944cd",
   "metadata": {},
   "source": [
    "### **5.5) Make predictions on testing data**"
   ]
  },
  {
   "cell_type": "code",
   "execution_count": null,
   "id": "92382b48-7d4e-4a1b-9ad6-f74816c670cb",
   "metadata": {},
   "outputs": [],
   "source": []
  },
  {
   "cell_type": "markdown",
   "id": "b8bf2b29-2e8b-4bc7-9120-7c028d0018a6",
   "metadata": {},
   "source": [
    "## **6) Evaluating results**"
   ]
  },
  {
   "cell_type": "code",
   "execution_count": null,
   "id": "00b8a38d-e667-4861-bfe3-4e2e42c6c0b7",
   "metadata": {},
   "outputs": [],
   "source": []
  },
  {
   "cell_type": "markdown",
   "id": "1a4f9e6b-2254-44b5-a9ac-52c71220f206",
   "metadata": {},
   "source": [
    "#### **a) Visualizing the Confusion Matrix**"
   ]
  },
  {
   "cell_type": "code",
   "execution_count": null,
   "id": "e60ca58d-bf58-4064-ab33-a83bdf7dcf4c",
   "metadata": {},
   "outputs": [],
   "source": []
  },
  {
   "cell_type": "markdown",
   "id": "4cb64f36-924b-4a90-be52-3b370a564546",
   "metadata": {},
   "source": [
    "## **Discussion**"
   ]
  },
  {
   "cell_type": "markdown",
   "id": "4160dfb0-9425-4782-a3d5-0923e983b911",
   "metadata": {},
   "source": [
    "### Summary of Results"
   ]
  },
  {
   "cell_type": "code",
   "execution_count": null,
   "id": "0c642777-30a4-48ef-9fd1-a72855b32847",
   "metadata": {},
   "outputs": [],
   "source": []
  },
  {
   "cell_type": "markdown",
   "id": "87742b85-6e8e-4b83-9cbc-e6da65344ab4",
   "metadata": {},
   "source": [
    "### Expected Findings"
   ]
  },
  {
   "cell_type": "code",
   "execution_count": null,
   "id": "60e02e83-15fb-4be6-818c-bbcbaf3529d0",
   "metadata": {},
   "outputs": [],
   "source": []
  },
  {
   "cell_type": "markdown",
   "id": "a072ec1d-a729-48d5-a4b5-789f89898e46",
   "metadata": {},
   "source": [
    "### Impacts"
   ]
  },
  {
   "cell_type": "code",
   "execution_count": null,
   "id": "1d1d4fdd-06f6-487a-806a-7e72a34a3ef3",
   "metadata": {},
   "outputs": [],
   "source": []
  },
  {
   "cell_type": "markdown",
   "id": "72ef951a-606a-461c-8220-61d2b604224f",
   "metadata": {},
   "source": [
    "### Future Implications"
   ]
  },
  {
   "cell_type": "code",
   "execution_count": null,
   "id": "7d336e4e-5fa2-460d-a3cc-db88487cc808",
   "metadata": {},
   "outputs": [],
   "source": []
  },
  {
   "cell_type": "markdown",
   "id": "dba44caa-18c6-4fdf-951c-6f92ae7050c3",
   "metadata": {},
   "source": [
    "# **References** "
   ]
  },
  {
   "cell_type": "markdown",
   "id": "26c4e0bd-1064-479b-8b2e-781d49b20aaf",
   "metadata": {},
   "source": [
    "fedesoriano. (2022). Stellar Classification Dataset - SDSS17. Kaggle.com. https://www.kaggle.com/datasets/fedesoriano/stellar-classification-dataset-sdss17/data\n",
    "\n",
    "Wolf, C., Meisenheimer, K., Kleinheinrich, M., Borch, A., Dye, S., Gray, M., Wisotzki, L., Bell, E., Rix, H., Cimatti, A., Hasinger, G., & Szokoly, G. (2004). A catalogue of the Chandra Deep Field South with multi-colour classification and photometric redshifts from COMBO-17. Astronomy and Astrophysics, 421, 913-936. https://doi.org/10.1051/0004-6361:20040525.\n",
    "\n",
    "Elting, C., C. Bailer-Jones, & Smith, K. (2018). Photometric Classification of Stars, Galaxies and Quasars in the Sloan Digital Sky Survey DR6 Using Support Vector Machines. https://www.semanticscholar.org/paper/Photometric-Classification-of-Stars%2C-Galaxies-and-Elting-Bailer-Jones/7e880193b3a75c789c7352dd65743666af8e4dab"
   ]
  }
 ],
 "metadata": {
  "kernelspec": {
   "display_name": "R",
   "language": "R",
   "name": "ir"
  },
  "language_info": {
   "codemirror_mode": "r",
   "file_extension": ".r",
   "mimetype": "text/x-r-source",
   "name": "R",
   "pygments_lexer": "r",
   "version": "4.3.1"
  }
 },
 "nbformat": 4,
 "nbformat_minor": 5
}
